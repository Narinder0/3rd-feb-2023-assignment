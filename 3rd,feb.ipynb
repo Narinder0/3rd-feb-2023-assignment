{
 "cells": [
  {
   "cell_type": "code",
   "execution_count": 2,
   "id": "7ee34b0d-78cd-4829-ae81-73d304beee1e",
   "metadata": {},
   "outputs": [],
   "source": [
    "'''1st question\n",
    "Ans is:- def() function key is use to create functions'''\n",
    "def Odd_num():\n",
    "    return[i for i in range(1,25,2)]"
   ]
  },
  {
   "cell_type": "code",
   "execution_count": 4,
   "id": "55619d23-7a10-4865-a977-75ad326acda2",
   "metadata": {},
   "outputs": [
    {
     "data": {
      "text/plain": [
       "[1, 3, 5, 7, 9, 11, 13, 15, 17, 19, 21, 23]"
      ]
     },
     "execution_count": 4,
     "metadata": {},
     "output_type": "execute_result"
    }
   ],
   "source": [
    "Odd_num()"
   ]
  },
  {
   "cell_type": "code",
   "execution_count": 7,
   "id": "a299ebdd-ecb9-409a-9cd6-1aa90f0abb43",
   "metadata": {},
   "outputs": [],
   "source": [
    "'''2nd question\n",
    "Ans is:- *args is used to get n number of data.Data can be in Dynamice.\n",
    "exaple is given below '''\n",
    "def Test1(*args):\n",
    "    return args"
   ]
  },
  {
   "cell_type": "code",
   "execution_count": 8,
   "id": "ad33b013-a514-4cc1-8ad7-8596cd531399",
   "metadata": {},
   "outputs": [
    {
     "data": {
      "text/plain": [
       "([1, 2, 45, 55, 2], 'sudhanshu sir', 'pwskills', 22, 333.555)"
      ]
     },
     "execution_count": 8,
     "metadata": {},
     "output_type": "execute_result"
    }
   ],
   "source": [
    "Test1([1,2,45,55,2],\"sudhanshu sir\",\"pwskills\",22,333.555)"
   ]
  },
  {
   "cell_type": "code",
   "execution_count": 10,
   "id": "4817b8c9-8aa0-4d36-8aff-fb3952bf19ae",
   "metadata": {},
   "outputs": [],
   "source": [
    "''' 2nd question 2nd exanple\n",
    "Ans is :- **kwargs is a disconary type.In which data is given and collacted as a key:value.'''\n",
    "def test2(**kwargs):\n",
    "    return kwargs"
   ]
  },
  {
   "cell_type": "code",
   "execution_count": 11,
   "id": "2eaf0cae-00bc-447f-bc0e-1b21f801e676",
   "metadata": {},
   "outputs": [
    {
     "data": {
      "text/plain": [
       "{'name': 'sahil', 'l': [2, 4, 5, 66], 'pw': 'lots of knowledge'}"
      ]
     },
     "execution_count": 11,
     "metadata": {},
     "output_type": "execute_result"
    }
   ],
   "source": [
    "test2(name = \"sahil\", l = [2,4,5,66], pw = \"lots of knowledge\")"
   ]
  },
  {
   "cell_type": "code",
   "execution_count": 13,
   "id": "e9505648-d53f-4b2f-ac58-e78ca1732666",
   "metadata": {},
   "outputs": [
    {
     "name": "stdout",
     "output_type": "stream",
     "text": [
      "2\n",
      "4\n",
      "6\n",
      "8\n",
      "10\n"
     ]
    }
   ],
   "source": [
    "''' 3rd question\n",
    "Ans is :- An iterator in Python is an object that can be repeated (looped).\n",
    "To initialize an iterator object, the iter() method is used. To iterate through elements, the next() method is used.'''\n",
    "l = [2, 4, 6, 8, 10, 12, 14, 16, 18, 20]\n",
    "d = iter(l)\n",
    "\n",
    "for i in range(5):\n",
    "    print(next(d))"
   ]
  },
  {
   "cell_type": "code",
   "execution_count": 14,
   "id": "6c23b2eb-8f64-4bef-a7ac-1c7c3d2abfd2",
   "metadata": {},
   "outputs": [
    {
     "name": "stdout",
     "output_type": "stream",
     "text": [
      "3\n",
      "5\n",
      "6\n",
      "7\n",
      "2\n"
     ]
    }
   ],
   "source": [
    "'''one more exampe of itration in simple code'''\n",
    "a = [3,5,6,7,2,8]\n",
    "for i in range(5):\n",
    "    print(a[i])"
   ]
  },
  {
   "cell_type": "code",
   "execution_count": 18,
   "id": "a73de3de-c175-4dbe-93de-8baca0b01f3f",
   "metadata": {},
   "outputs": [],
   "source": [
    "'''4th question\n",
    "A generator function in Python is a special type of function that returns a generator object, \n",
    "which is an iterator that can produce a sequence of values.\n",
    "The \"yield\" keyword is used inside a generator function to produce a value \n",
    "and pause the execution of the function'''\n",
    "\n",
    "def test3(n):\n",
    "    count = 1\n",
    "    while count <= n:\n",
    "        yield count\n",
    "        count+=1\n",
    "    "
   ]
  },
  {
   "cell_type": "code",
   "execution_count": 19,
   "id": "785fbd80-28ec-4e10-931c-ca289179d367",
   "metadata": {},
   "outputs": [
    {
     "data": {
      "text/plain": [
       "[1, 2, 3, 4, 5, 6]"
      ]
     },
     "execution_count": 19,
     "metadata": {},
     "output_type": "execute_result"
    }
   ],
   "source": [
    "''' usage of genrating function'''\n",
    "[i for i in test3(6)]"
   ]
  },
  {
   "cell_type": "code",
   "execution_count": 21,
   "id": "71383c52-a538-4582-8040-e40168c0b3fc",
   "metadata": {},
   "outputs": [],
   "source": [
    "''' 5th question\n",
    "using generator function to creat prime number whil using next keyword'''\n",
    "def getPrime_number(n):\n",
    "    def is_prime(number):\n",
    "        if number <= 1:\n",
    "            return False\n",
    "        for i in range(2,number):\n",
    "            if number % i == 0:\n",
    "                return False\n",
    "        return True\n",
    "    number = 2\n",
    "    while number < n:\n",
    "        if is_prime(number):\n",
    "            yield number\n",
    "        number += 1             "
   ]
  },
  {
   "cell_type": "code",
   "execution_count": 22,
   "id": "d0455ac2-bc82-45e7-ac18-9754ee637009",
   "metadata": {},
   "outputs": [
    {
     "name": "stdout",
     "output_type": "stream",
     "text": [
      "2\n",
      "3\n",
      "5\n",
      "7\n",
      "11\n",
      "13\n",
      "17\n",
      "19\n",
      "23\n",
      "29\n",
      "31\n",
      "37\n",
      "41\n",
      "43\n",
      "47\n",
      "53\n",
      "59\n",
      "61\n",
      "67\n",
      "71\n"
     ]
    }
   ],
   "source": [
    "'''usage of generator function with next keyword for finding first 20 prime'''\n",
    "prime = getPrime_number(1000)\n",
    "print(next(prime))\n",
    "print(next(prime))\n",
    "print(next(prime))\n",
    "print(next(prime))\n",
    "print(next(prime))\n",
    "print(next(prime))\n",
    "print(next(prime))\n",
    "print(next(prime))\n",
    "print(next(prime))\n",
    "print(next(prime))\n",
    "print(next(prime))\n",
    "print(next(prime))\n",
    "print(next(prime))\n",
    "print(next(prime))\n",
    "print(next(prime))\n",
    "print(next(prime))\n",
    "print(next(prime))\n",
    "print(next(prime))\n",
    "print(next(prime))\n",
    "print(next(prime))\n"
   ]
  },
  {
   "cell_type": "code",
   "execution_count": 23,
   "id": "cefc320c-5791-4b4d-99cc-dc3ee3ecfcad",
   "metadata": {},
   "outputs": [
    {
     "name": "stdout",
     "output_type": "stream",
     "text": [
      "0\n",
      "1\n",
      "1\n",
      "2\n",
      "3\n",
      "5\n",
      "8\n",
      "13\n",
      "21\n",
      "34\n"
     ]
    }
   ],
   "source": [
    "''' question 6\n",
    "Ans:- first 10 Fibonacci numbers using a while loop.'''\n",
    "number = 10\n",
    "a,b = 0,1\n",
    "count = 0\n",
    "while count < number:\n",
    "    print(a)\n",
    "    c = a+b\n",
    "    a = b\n",
    "    b = c\n",
    "    count = count+1"
   ]
  },
  {
   "cell_type": "code",
   "execution_count": 24,
   "id": "23fb0e14-fcdc-429f-989d-34ea8396d27f",
   "metadata": {},
   "outputs": [
    {
     "data": {
      "text/plain": [
       "['p', 'w', 's', 'k', 'i', 'l', 'l', 's']"
      ]
     },
     "execution_count": 24,
     "metadata": {},
     "output_type": "execute_result"
    }
   ],
   "source": [
    "''' question 7\n",
    "Ans:- list comprehension'''\n",
    "s=\"pwskills\"\n",
    "[i for i in s] "
   ]
  },
  {
   "cell_type": "code",
   "execution_count": 25,
   "id": "07ccc19d-64f2-41cd-ba74-769b7c33d9d2",
   "metadata": {},
   "outputs": [
    {
     "name": "stdin",
     "output_type": "stream",
     "text": [
      "Enter a number:- 121\n"
     ]
    },
    {
     "name": "stdout",
     "output_type": "stream",
     "text": [
      "The number is palindrome.\n"
     ]
    }
   ],
   "source": [
    "''' question 8\n",
    "Ans:- program of palindrome'''\n",
    "def is_palindrome(num):\n",
    "    orignal_num = num\n",
    "    reverse_num = 0\n",
    "    while num > 0:\n",
    "        last_num = num % 10\n",
    "        reverse_num = reverse_num *10 + last_num\n",
    "        num = num // 10\n",
    "    return orignal_num == reverse_num\n",
    "\n",
    "num = int(input(\"Enter a number:-\"))\n",
    "if is_palindrome(num):\n",
    "    print(\"The number is palindrome.\")\n",
    "else:\n",
    "    print(\"The number is not a palindrome.\")"
   ]
  },
  {
   "cell_type": "code",
   "execution_count": 29,
   "id": "d59f0b26-a104-44ae-8c01-ea450104a06f",
   "metadata": {},
   "outputs": [
    {
     "name": "stdout",
     "output_type": "stream",
     "text": [
      "[1, 3, 5, 7, 9, 11, 13, 15, 17, 19, 21, 23, 25, 27, 29, 31, 33, 35, 37, 39, 41, 43, 45, 47, 49, 51, 53, 55, 57, 59, 61, 63, 65, 67, 69, 71, 73, 75, 77, 79, 81, 83, 85, 87, 89, 91, 93, 95, 97, 99]\n"
     ]
    }
   ],
   "source": [
    "''' 9th question\n",
    "list comprehension to creat odd number list'''\n",
    "Odd_number = [i for i in range(1,101) if i % 2 != 0 ]\n",
    "print(Odd_number)\n"
   ]
  },
  {
   "cell_type": "code",
   "execution_count": null,
   "id": "a6fd3f93-c667-450d-805e-9d7923e2e16f",
   "metadata": {},
   "outputs": [],
   "source": []
  }
 ],
 "metadata": {
  "kernelspec": {
   "display_name": "Python 3 (ipykernel)",
   "language": "python",
   "name": "python3"
  },
  "language_info": {
   "codemirror_mode": {
    "name": "ipython",
    "version": 3
   },
   "file_extension": ".py",
   "mimetype": "text/x-python",
   "name": "python",
   "nbconvert_exporter": "python",
   "pygments_lexer": "ipython3",
   "version": "3.10.8"
  }
 },
 "nbformat": 4,
 "nbformat_minor": 5
}
